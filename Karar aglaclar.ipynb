{
 "cells": [
  {
   "cell_type": "code",
   "execution_count": null,
   "metadata": {},
   "outputs": [],
   "source": [
    "import pandas as pd\n",
    "import plotly\n",
    "import plotly.express as px\n",
    "import plotly.graph_objects as go\n",
    "import numpy as np\n",
    "\n"
   ]
  },
  {
   "cell_type": "code",
   "execution_count": 23,
   "metadata": {},
   "outputs": [],
   "source": [
    "dataMat = pd.read_csv('student/student-mat.csv', sep=';')\n",
    "dataPor = pd.read_csv('student/student-por.csv', sep=';')"
   ]
  },
  {
   "cell_type": "code",
   "execution_count": 24,
   "metadata": {},
   "outputs": [
    {
     "data": {
      "text/plain": [
       "Index(['school', 'sex', 'age', 'address', 'famsize', 'Pstatus', 'Medu', 'Fedu',\n",
       "       'Mjob', 'Fjob', 'reason', 'guardian', 'traveltime', 'studytime',\n",
       "       'failures', 'schoolsup', 'famsup', 'paid', 'activities', 'nursery',\n",
       "       'higher', 'internet', 'romantic', 'famrel', 'freetime', 'goout', 'Dalc',\n",
       "       'Walc', 'health', 'absences', 'G1', 'G2', 'G3'],\n",
       "      dtype='object')"
      ]
     },
     "execution_count": 24,
     "metadata": {},
     "output_type": "execute_result"
    }
   ],
   "source": [
    "dataMat.columns\n"
   ]
  },
  {
   "cell_type": "code",
   "execution_count": 25,
   "metadata": {},
   "outputs": [
    {
     "data": {
      "text/plain": [
       "Index(['school', 'sex', 'age', 'address', 'famsize', 'Pstatus', 'Medu', 'Fedu',\n",
       "       'Mjob', 'Fjob', 'reason', 'guardian', 'traveltime', 'studytime',\n",
       "       'failures', 'schoolsup', 'famsup', 'paid', 'activities', 'nursery',\n",
       "       'higher', 'internet', 'romantic', 'famrel', 'freetime', 'goout', 'Dalc',\n",
       "       'Walc', 'health', 'absences', 'G1', 'G2', 'G3'],\n",
       "      dtype='object')"
      ]
     },
     "execution_count": 25,
     "metadata": {},
     "output_type": "execute_result"
    }
   ],
   "source": [
    "dataPor.columns"
   ]
  },
  {
   "cell_type": "code",
   "execution_count": 30,
   "metadata": {},
   "outputs": [
    {
     "name": "stdout",
     "output_type": "stream",
     "text": [
      "[38  1  7 15  9 32 28 56 47 31 31 27 33 16  6 12  5  1]\n",
      "Index([0, 4, 5, 6, 7, 8, 9, 10, 11, 12, 13, 14, 15, 16, 17, 18, 19, 20], dtype='int64', name='G3')\n",
      "[ 15   1   1   3  10  35  35  97 104  72  82  63  49  36  29  15   2]\n",
      "Index([0, 1, 5, 6, 7, 8, 9, 10, 11, 12, 13, 14, 15, 16, 17, 18, 19], dtype='int64', name='G3')\n"
     ]
    }
   ],
   "source": [
    "gradesMat = dataMat[\"G3\"].value_counts().sort_index()\n",
    "print(gradesMat.values)\n",
    "print(gradesMat.index)\n",
    "\n",
    "yMat = gradesMat.values\n",
    "xMat =[]\n",
    "for n in gradesMat.index:\n",
    "  xMat.append(str(n))\n",
    "\n",
    "gradesPor = dataPor[\"G3\"].value_counts().sort_index()\n",
    "print(gradesPor.values)\n",
    "print(gradesPor.index)\n",
    "\n",
    "yPor = gradesPor.values\n",
    "xPor =[]\n",
    "for n in gradesPor.index:\n",
    "  xPor.append(str(n))\n",
    "\n",
    "def valueToSwitch(n):\n",
    "    if(n<=9):\n",
    "      return 0\n",
    "    if(n==10 or n==11):\n",
    "      return 1\n",
    "    if(n==12 or n==13):\n",
    "      return 2\n",
    "    if(n==14 or n==15):\n",
    "      return 3\n",
    "    else:\n",
    "      return 4\n",
    "\n",
    "\n",
    "fiveLevelGradesMat = [0,0,0,0,0]\n",
    "fiveLevelGradesPor = [0,0,0,0,0]\n",
    "\n",
    "for grade, quantity in gradesMat.items():\n",
    "    level = valueToSwitch(grade)\n",
    "    fiveLevelGradesMat[level] = fiveLevelGradesMat[level] + quantity\n",
    "\n",
    "for grade, quantity in gradesPor.items():\n",
    "    level = valueToSwitch(grade)\n",
    "    fiveLevelGradesPor[level] = fiveLevelGradesPor[level] + quantity\n",
    "    "
   ]
  },
  {
   "cell_type": "code",
   "execution_count": 34,
   "metadata": {},
   "outputs": [
    {
     "ename": "NameError",
     "evalue": "name 'plotly' is not defined",
     "output_type": "error",
     "traceback": [
      "\u001b[31m---------------------------------------------------------------------------\u001b[39m",
      "\u001b[31mNameError\u001b[39m                                 Traceback (most recent call last)",
      "\u001b[36mCell\u001b[39m\u001b[36m \u001b[39m\u001b[32mIn[34]\u001b[39m\u001b[32m, line 1\u001b[39m\n\u001b[32m----> \u001b[39m\u001b[32m1\u001b[39m colors = \u001b[43mplotly\u001b[49m.colors.DEFAULT_PLOTLY_COLORS\n\u001b[32m      3\u001b[39m binaryGradesMat = [fiveLevelGradesMat[\u001b[32m0\u001b[39m], fiveLevelGradesMat[\u001b[32m1\u001b[39m]+fiveLevelGradesMat[\u001b[32m2\u001b[39m]+fiveLevelGradesMat[\u001b[32m3\u001b[39m]+fiveLevelGradesMat[\u001b[32m4\u001b[39m]]\n\u001b[32m      4\u001b[39m binaryGradesPor = [fiveLevelGradesPor[\u001b[32m0\u001b[39m], fiveLevelGradesPor[\u001b[32m1\u001b[39m]+fiveLevelGradesPor[\u001b[32m2\u001b[39m]+fiveLevelGradesPor[\u001b[32m3\u001b[39m]+fiveLevelGradesPor[\u001b[32m4\u001b[39m]]\n",
      "\u001b[31mNameError\u001b[39m: name 'plotly' is not defined"
     ]
    }
   ],
   "source": [
    "colors = plotly.colors.DEFAULT_PLOTLY_COLORS\n",
    "\n",
    "binaryGradesMat = [fiveLevelGradesMat[0], fiveLevelGradesMat[1]+fiveLevelGradesMat[2]+fiveLevelGradesMat[3]+fiveLevelGradesMat[4]]\n",
    "binaryGradesPor = [fiveLevelGradesPor[0], fiveLevelGradesPor[1]+fiveLevelGradesPor[2]+fiveLevelGradesPor[3]+fiveLevelGradesPor[4]]\n",
    "\n",
    "# Create figure\n",
    "fig = go.Figure()\n",
    "\n",
    "fiveLevel = ['0-9', '10-11', '12-13', '14-15', '16-20']\n",
    "twoLevel = ['Fail', 'Pass']\n",
    "\n",
    "colors20L = [colors[2]]*len(xMat)\n",
    "for i in list(range(0,7)):\n",
    "    colors20L[i] = colors[3]\n",
    "\n",
    "    \n",
    "colors5L = [colors[2]]*5\n",
    "colors5L[0] = colors[3]\n",
    "\n",
    "colors2L = [colors[3],colors[2]]\n",
    "\n",
    "fig.add_trace(\n",
    "        go.Bar(\n",
    "            visible=False,\n",
    "            marker_color=colors20L,\n",
    "            name='20Level Mat',\n",
    "            x=xMat,\n",
    "            y=yMat,\n",
    "            text=yMat,\n",
    "            textposition='auto'))\n",
    "\n",
    "fig.add_trace(\n",
    "        go.Bar(\n",
    "            visible=False,\n",
    "             marker_color=colors5L,\n",
    "            name='5Level Mat',\n",
    "            x=list(range(1,6)),\n",
    "            y=fiveLevelGradesMat,\n",
    "            text=fiveLevelGradesMat,\n",
    "            textposition='auto'))\n",
    "\n",
    "fig.add_trace(\n",
    "        go.Bar(\n",
    "            visible=False,\n",
    "            marker_color=colors2L,\n",
    "            name='2Level Mat',\n",
    "            x=list(range(1,3)),\n",
    "            y=binaryGradesMat,\n",
    "            text=binaryGradesMat,\n",
    "            textposition='auto'))\n",
    "\n",
    "fig.add_trace(\n",
    "         go.Bar(\n",
    "            visible=False,\n",
    "            marker_color=colors20L,\n",
    "            name='20Level Por',\n",
    "            x=xPor,\n",
    "            y=yPor,\n",
    "            text=yPor,\n",
    "            textposition='auto'))\n",
    "fig.add_trace(\n",
    "         go.Bar(\n",
    "            visible=False,\n",
    "            marker_color=colors5L,\n",
    "            name='5Level Por',\n",
    "            x=list(range(1,6)),\n",
    "            y=fiveLevelGradesPor,\n",
    "            text=fiveLevelGradesPor,\n",
    "            textposition='auto'))\n",
    "\n",
    "fig.add_trace(\n",
    "         go.Bar(\n",
    "            visible=False,\n",
    "            marker_color=colors2L,\n",
    "            name='2Level Por',\n",
    "            x=list(range(1,3)),\n",
    "            y=binaryGradesPor,\n",
    "            text=binaryGradesPor,\n",
    "            textposition='auto'))\n",
    "\n",
    "\n",
    "fig.data[0].visible = True\n",
    "\n",
    "# Create and add slider\n",
    "steps = []\n",
    "labels = ['20 Level Mat', '5 Level Mat', '2 Level Mat', '20 Level Por', '5 Level Por', '2 Level Por']\n",
    "for i in range(len(fig.data)):\n",
    "    step = dict(\n",
    "        method=\"restyle\",\n",
    "        args=[\"visible\", [False] * len(fig.data)],\n",
    "        label = labels[i]\n",
    "    )\n",
    "    step[\"args\"][1][i] = True  # Toggle i'th trace to \"visible\"\n",
    "    steps.append(step)\n",
    "\n",
    "sliders = [dict(\n",
    "    active=0,\n",
    "    currentvalue={\"prefix\": \"Grades: \"},\n",
    "    pad={\"t\": 50},\n",
    "    steps=steps\n",
    ")]\n",
    "\n",
    "fig.update_layout(\n",
    "    xaxis = dict(\n",
    "        tickmode='linear'),\n",
    "    sliders=sliders,\n",
    "    barmode='group',\n",
    "    title='Various rappresentation of G3 grades in Mathematics and Portuguese Lanaguage',\n",
    "    xaxis_title=\"Grade\",\n",
    "    yaxis_title=\"#student\"\n",
    ")\n",
    "\n",
    "fig.show()"
   ]
  },
  {
   "cell_type": "code",
   "execution_count": 35,
   "metadata": {},
   "outputs": [
    {
     "name": "stdout",
     "output_type": "stream",
     "text": [
      "Requirement already satisfied: plotly in c:\\users\\stacy1kelvinnotebook\\appdata\\local\\packages\\pythonsoftwarefoundation.python.3.11_qbz5n2kfra8p0\\localcache\\local-packages\\python311\\site-packages (6.0.0)\n",
      "Requirement already satisfied: narwhals>=1.15.1 in c:\\users\\stacy1kelvinnotebook\\appdata\\local\\packages\\pythonsoftwarefoundation.python.3.11_qbz5n2kfra8p0\\localcache\\local-packages\\python311\\site-packages (from plotly) (1.30.0)\n",
      "Requirement already satisfied: packaging in c:\\users\\stacy1kelvinnotebook\\appdata\\local\\packages\\pythonsoftwarefoundation.python.3.11_qbz5n2kfra8p0\\localcache\\local-packages\\python311\\site-packages (from plotly) (24.2)\n",
      "Note: you may need to restart the kernel to use updated packages.\n"
     ]
    }
   ],
   "source": [
    "pip install plotly\n"
   ]
  },
  {
   "cell_type": "code",
   "execution_count": null,
   "metadata": {},
   "outputs": [],
   "source": []
  }
 ],
 "metadata": {
  "kernelspec": {
   "display_name": "Python 3",
   "language": "python",
   "name": "python3"
  },
  "language_info": {
   "codemirror_mode": {
    "name": "ipython",
    "version": 3
   },
   "file_extension": ".py",
   "mimetype": "text/x-python",
   "name": "python",
   "nbconvert_exporter": "python",
   "pygments_lexer": "ipython3",
   "version": "3.11.9"
  }
 },
 "nbformat": 4,
 "nbformat_minor": 2
}
